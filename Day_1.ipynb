{
  "nbformat": 4,
  "nbformat_minor": 0,
  "metadata": {
    "colab": {
      "name": "Day_1.ipynb",
      "provenance": [],
      "collapsed_sections": [],
      "authorship_tag": "ABX9TyPdQEkjDuiJqSYM4yQm8amY",
      "include_colab_link": true
    },
    "kernelspec": {
      "name": "python3",
      "display_name": "Python 3"
    },
    "language_info": {
      "name": "python"
    }
  },
  "cells": [
    {
      "cell_type": "markdown",
      "metadata": {
        "id": "view-in-github",
        "colab_type": "text"
      },
      "source": [
        "<a href=\"https://colab.research.google.com/github/SilahicAmil/30-Days-Of-ML/blob/main/Day_1.ipynb\" target=\"_parent\"><img src=\"https://colab.research.google.com/assets/colab-badge.svg\" alt=\"Open In Colab\"/></a>"
      ]
    },
    {
      "cell_type": "markdown",
      "metadata": {
        "id": "nEyysPdF_6dR"
      },
      "source": [
        "# Introduction to NumPy"
      ]
    },
    {
      "cell_type": "code",
      "metadata": {
        "id": "ZTe3IQx2E2fU"
      },
      "source": [
        "import numpy as np"
      ],
      "execution_count": 1,
      "outputs": []
    },
    {
      "cell_type": "markdown",
      "metadata": {
        "id": "1ZtKnzOIINWs"
      },
      "source": [
        "## Arrays"
      ]
    },
    {
      "cell_type": "code",
      "metadata": {
        "colab": {
          "base_uri": "https://localhost:8080/"
        },
        "id": "E6gp7cvkFOkd",
        "outputId": "9b94bff7-73e4-4087-9958-6157538624ac"
      },
      "source": [
        "my_list = [1,2,3]\n",
        "my_list"
      ],
      "execution_count": 2,
      "outputs": [
        {
          "output_type": "execute_result",
          "data": {
            "text/plain": [
              "[1, 2, 3]"
            ]
          },
          "metadata": {},
          "execution_count": 2
        }
      ]
    },
    {
      "cell_type": "code",
      "metadata": {
        "colab": {
          "base_uri": "https://localhost:8080/"
        },
        "id": "lQB1D2YbFfiu",
        "outputId": "a1b541ab-d2bc-43c9-909d-7c94dcbfa715"
      },
      "source": [
        "arr = np.array(my_list)\n",
        "arr"
      ],
      "execution_count": 4,
      "outputs": [
        {
          "output_type": "execute_result",
          "data": {
            "text/plain": [
              "array([1, 2, 3])"
            ]
          },
          "metadata": {},
          "execution_count": 4
        }
      ]
    },
    {
      "cell_type": "code",
      "metadata": {
        "id": "Uvf68kFGFhq-"
      },
      "source": [
        "# 2 Dimensional Array\n",
        "my_mat = [[1,2,3], [4,5,6], [7,8,9]]"
      ],
      "execution_count": 5,
      "outputs": []
    },
    {
      "cell_type": "code",
      "metadata": {
        "colab": {
          "base_uri": "https://localhost:8080/"
        },
        "id": "fUhnPIklFrEM",
        "outputId": "58282187-8570-408b-ce71-4d0bd42c23cc"
      },
      "source": [
        "np.array(my_mat)"
      ],
      "execution_count": 6,
      "outputs": [
        {
          "output_type": "execute_result",
          "data": {
            "text/plain": [
              "array([[1, 2, 3],\n",
              "       [4, 5, 6],\n",
              "       [7, 8, 9]])"
            ]
          },
          "metadata": {},
          "execution_count": 6
        }
      ]
    },
    {
      "cell_type": "markdown",
      "metadata": {
        "id": "UNzbhfOHG5_G"
      },
      "source": [
        "### Arange\n",
        "\n",
        "Returns evenly spaced values within given intervals\n"
      ]
    },
    {
      "cell_type": "code",
      "metadata": {
        "colab": {
          "base_uri": "https://localhost:8080/"
        },
        "id": "4XmJIdkiFsUV",
        "outputId": "c56a2d04-7731-46ae-82a3-f79ff524a2a9"
      },
      "source": [
        "np.arange(0,10)"
      ],
      "execution_count": 7,
      "outputs": [
        {
          "output_type": "execute_result",
          "data": {
            "text/plain": [
              "array([0, 1, 2, 3, 4, 5, 6, 7, 8, 9])"
            ]
          },
          "metadata": {},
          "execution_count": 7
        }
      ]
    },
    {
      "cell_type": "code",
      "metadata": {
        "colab": {
          "base_uri": "https://localhost:8080/"
        },
        "id": "FMBDpeoeG-h9",
        "outputId": "32e666d6-e650-410e-b05b-0653d368e2f6"
      },
      "source": [
        "# Start, End, Step Size\n",
        "# 1- Dimensional\n",
        "np.arange(0,11,2)"
      ],
      "execution_count": 18,
      "outputs": [
        {
          "output_type": "execute_result",
          "data": {
            "text/plain": [
              "array([ 0,  2,  4,  6,  8, 10])"
            ]
          },
          "metadata": {},
          "execution_count": 18
        }
      ]
    },
    {
      "cell_type": "markdown",
      "metadata": {
        "id": "eRbGf4dbHQXc"
      },
      "source": [
        "### Linspace\n",
        "\n",
        "Returns evenly spaced nuymbers over a specified interval\n",
        "\n",
        "Linspace takes 3rd argument of number of points you want"
      ]
    },
    {
      "cell_type": "code",
      "metadata": {
        "colab": {
          "base_uri": "https://localhost:8080/"
        },
        "id": "I7EuYs8LHk6L",
        "outputId": "9ddd7549-b72c-49d0-ed66-3345294eb993"
      },
      "source": [
        "# 1-Dimensional\n",
        "np.linspace(0,5,10)"
      ],
      "execution_count": 19,
      "outputs": [
        {
          "output_type": "execute_result",
          "data": {
            "text/plain": [
              "array([0.        , 0.55555556, 1.11111111, 1.66666667, 2.22222222,\n",
              "       2.77777778, 3.33333333, 3.88888889, 4.44444444, 5.        ])"
            ]
          },
          "metadata": {},
          "execution_count": 19
        }
      ]
    },
    {
      "cell_type": "markdown",
      "metadata": {
        "id": "-3z9m2ldH9No"
      },
      "source": [
        "# Random\n",
        "\n",
        "numpy has many ways to create random number arrays"
      ]
    },
    {
      "cell_type": "markdown",
      "metadata": {
        "id": "PP4oKuT4Igyn"
      },
      "source": [
        "## Rand\n",
        "\n",
        "Creates an array of the given shape and populates it with random numbers in a uniform way"
      ]
    },
    {
      "cell_type": "code",
      "metadata": {
        "colab": {
          "base_uri": "https://localhost:8080/"
        },
        "id": "67QBal2zIqyc",
        "outputId": "f8bc3a38-c142-41ad-e732-3139a0fe9afd"
      },
      "source": [
        "np.random.rand(6)"
      ],
      "execution_count": 25,
      "outputs": [
        {
          "output_type": "execute_result",
          "data": {
            "text/plain": [
              "array([0.20663686, 0.39467877, 0.75955182, 0.66479336, 0.82376072,\n",
              "       0.00488029])"
            ]
          },
          "metadata": {},
          "execution_count": 25
        }
      ]
    },
    {
      "cell_type": "code",
      "metadata": {
        "colab": {
          "base_uri": "https://localhost:8080/"
        },
        "id": "Q_E5vNmYIvr0",
        "outputId": "3d75c5ac-fae3-4b16-d228-70d2fd9aa32e"
      },
      "source": [
        "np.random.rand(10,5)"
      ],
      "execution_count": 26,
      "outputs": [
        {
          "output_type": "execute_result",
          "data": {
            "text/plain": [
              "array([[0.81639034, 0.37855208, 0.04630609, 0.87393626, 0.16040233],\n",
              "       [0.63809153, 0.76316366, 0.37803424, 0.21315691, 0.57312977],\n",
              "       [0.38570878, 0.17784802, 0.58337415, 0.62162425, 0.22761127],\n",
              "       [0.5809603 , 0.48354232, 0.5965865 , 0.25745063, 0.74462448],\n",
              "       [0.04882787, 0.7559743 , 0.472965  , 0.00630942, 0.29917297],\n",
              "       [0.1315032 , 0.58545207, 0.25771159, 0.02399361, 0.93871628],\n",
              "       [0.71982429, 0.45219244, 0.54152605, 0.40785587, 0.39231677],\n",
              "       [0.53222521, 0.6655872 , 0.11419404, 0.28685806, 0.18153815],\n",
              "       [0.46437185, 0.88345213, 0.59534058, 0.10440513, 0.14933616],\n",
              "       [0.16209899, 0.32735753, 0.75836432, 0.93650057, 0.86243049]])"
            ]
          },
          "metadata": {},
          "execution_count": 26
        }
      ]
    },
    {
      "cell_type": "markdown",
      "metadata": {
        "id": "7kur8ktQIwwE"
      },
      "source": [
        "## Randn\n",
        "\n",
        "Returns numbers from the standard distribution"
      ]
    },
    {
      "cell_type": "code",
      "metadata": {
        "colab": {
          "base_uri": "https://localhost:8080/"
        },
        "id": "dnRJikXgI1WE",
        "outputId": "b82cdceb-a3d6-4aad-dd96-722c374543d6"
      },
      "source": [
        "np.random.randn(5)"
      ],
      "execution_count": 28,
      "outputs": [
        {
          "output_type": "execute_result",
          "data": {
            "text/plain": [
              "array([-0.7603059 , -0.46481136,  0.37354444,  1.89409636,  0.18810711])"
            ]
          },
          "metadata": {},
          "execution_count": 28
        }
      ]
    },
    {
      "cell_type": "code",
      "metadata": {
        "colab": {
          "base_uri": "https://localhost:8080/"
        },
        "id": "4ChtFEY0I-ML",
        "outputId": "e6bb97bb-19fb-40dc-fb1f-a30251adc147"
      },
      "source": [
        "# 2-Dimensional\n",
        "np.random.randn(1,15)"
      ],
      "execution_count": 29,
      "outputs": [
        {
          "output_type": "execute_result",
          "data": {
            "text/plain": [
              "array([[ 0.08118153, -0.95273362,  0.70839066, -0.02698287,  0.51618497,\n",
              "        -1.79522913,  1.06304277,  0.33923634, -0.72751995, -0.17527568,\n",
              "        -1.03983513, -0.32098159,  1.27363861, -0.79468212,  0.32927983]])"
            ]
          },
          "metadata": {},
          "execution_count": 29
        }
      ]
    },
    {
      "cell_type": "markdown",
      "metadata": {
        "id": "7fKBPLkbJBti"
      },
      "source": [
        "## Randint\n",
        "\n",
        "Returns random integers from low to high"
      ]
    },
    {
      "cell_type": "code",
      "metadata": {
        "colab": {
          "base_uri": "https://localhost:8080/"
        },
        "id": "Yw2Abk9TJJzK",
        "outputId": "ec1fa59c-87d0-4726-8fa6-0bdc79951671"
      },
      "source": [
        "np.random.randint(50,600)"
      ],
      "execution_count": 30,
      "outputs": [
        {
          "output_type": "execute_result",
          "data": {
            "text/plain": [
              "462"
            ]
          },
          "metadata": {},
          "execution_count": 30
        }
      ]
    },
    {
      "cell_type": "code",
      "metadata": {
        "colab": {
          "base_uri": "https://localhost:8080/"
        },
        "id": "sD1v-JepJMWK",
        "outputId": "1f4e06a7-1a47-4014-daad-93c28a24d7a5"
      },
      "source": [
        "\n",
        "np.random.randint(1,100,10)"
      ],
      "execution_count": 32,
      "outputs": [
        {
          "output_type": "execute_result",
          "data": {
            "text/plain": [
              "array([90, 84, 98, 89, 97, 29, 74,  1, 16, 27])"
            ]
          },
          "metadata": {},
          "execution_count": 32
        }
      ]
    },
    {
      "cell_type": "markdown",
      "metadata": {
        "id": "AT_mWrPGJNo6"
      },
      "source": [
        "# Attributes and Methods\n"
      ]
    },
    {
      "cell_type": "code",
      "metadata": {
        "id": "cabKdoRnJcJ5"
      },
      "source": [
        "arr = np.arange(25)\n",
        "rand_arr = np.random.randint(0,50,5)"
      ],
      "execution_count": 33,
      "outputs": []
    },
    {
      "cell_type": "code",
      "metadata": {
        "colab": {
          "base_uri": "https://localhost:8080/"
        },
        "id": "w2OEED5KJlSg",
        "outputId": "06108852-90cf-49bd-ed63-35146a89aaab"
      },
      "source": [
        "arr"
      ],
      "execution_count": 34,
      "outputs": [
        {
          "output_type": "execute_result",
          "data": {
            "text/plain": [
              "array([ 0,  1,  2,  3,  4,  5,  6,  7,  8,  9, 10, 11, 12, 13, 14, 15, 16,\n",
              "       17, 18, 19, 20, 21, 22, 23, 24])"
            ]
          },
          "metadata": {},
          "execution_count": 34
        }
      ]
    },
    {
      "cell_type": "code",
      "metadata": {
        "colab": {
          "base_uri": "https://localhost:8080/"
        },
        "id": "YBiY3C9WJmBQ",
        "outputId": "8e397318-d72c-41a6-a9f7-b1b84c1c9430"
      },
      "source": [
        "rand_arr"
      ],
      "execution_count": 35,
      "outputs": [
        {
          "output_type": "execute_result",
          "data": {
            "text/plain": [
              "array([15, 19,  3, 10, 21])"
            ]
          },
          "metadata": {},
          "execution_count": 35
        }
      ]
    },
    {
      "cell_type": "markdown",
      "metadata": {
        "id": "DATCFtUbJm_w"
      },
      "source": [
        "# Reshape\n",
        "\n",
        "Returns and array containg the same data with a different shape"
      ]
    },
    {
      "cell_type": "code",
      "metadata": {
        "colab": {
          "base_uri": "https://localhost:8080/"
        },
        "id": "Mn95YqVdJs6A",
        "outputId": "a6673d47-8000-4f49-96de-b5924a2a1926"
      },
      "source": [
        "arr.reshape(5,5)"
      ],
      "execution_count": 38,
      "outputs": [
        {
          "output_type": "execute_result",
          "data": {
            "text/plain": [
              "array([[ 0,  1,  2,  3,  4],\n",
              "       [ 5,  6,  7,  8,  9],\n",
              "       [10, 11, 12, 13, 14],\n",
              "       [15, 16, 17, 18, 19],\n",
              "       [20, 21, 22, 23, 24]])"
            ]
          },
          "metadata": {},
          "execution_count": 38
        }
      ]
    },
    {
      "cell_type": "markdown",
      "metadata": {
        "id": "0vQLPG1xJuVX"
      },
      "source": [
        "# Max, Min, Argmax, Argmin\n",
        "\n",
        "These are useful methods for finding max or min values and indexing"
      ]
    },
    {
      "cell_type": "code",
      "metadata": {
        "colab": {
          "base_uri": "https://localhost:8080/"
        },
        "id": "Z-6xSi5jJ6YN",
        "outputId": "7e4b5830-fb4d-479a-fa31-007942138c05"
      },
      "source": [
        "rand_arr"
      ],
      "execution_count": 40,
      "outputs": [
        {
          "output_type": "execute_result",
          "data": {
            "text/plain": [
              "array([15, 19,  3, 10, 21])"
            ]
          },
          "metadata": {},
          "execution_count": 40
        }
      ]
    },
    {
      "cell_type": "code",
      "metadata": {
        "colab": {
          "base_uri": "https://localhost:8080/"
        },
        "id": "DVtl1Te0J8W1",
        "outputId": "c46a2de8-d752-4d0e-a0d6-27cc7a88bb5c"
      },
      "source": [
        "rand_arr.max()"
      ],
      "execution_count": 41,
      "outputs": [
        {
          "output_type": "execute_result",
          "data": {
            "text/plain": [
              "21"
            ]
          },
          "metadata": {},
          "execution_count": 41
        }
      ]
    },
    {
      "cell_type": "code",
      "metadata": {
        "colab": {
          "base_uri": "https://localhost:8080/"
        },
        "id": "KhFLgmiTJ9sd",
        "outputId": "b5d97669-0275-476f-9f1d-075ff6b2ca92"
      },
      "source": [
        "rand_arr.argmax()\n"
      ],
      "execution_count": 42,
      "outputs": [
        {
          "output_type": "execute_result",
          "data": {
            "text/plain": [
              "4"
            ]
          },
          "metadata": {},
          "execution_count": 42
        }
      ]
    },
    {
      "cell_type": "code",
      "metadata": {
        "colab": {
          "base_uri": "https://localhost:8080/"
        },
        "id": "55im8y_PJ_51",
        "outputId": "1a2f0509-bc4c-417d-ec40-a36dcf1b7477"
      },
      "source": [
        "rand_arr.min()"
      ],
      "execution_count": 43,
      "outputs": [
        {
          "output_type": "execute_result",
          "data": {
            "text/plain": [
              "3"
            ]
          },
          "metadata": {},
          "execution_count": 43
        }
      ]
    },
    {
      "cell_type": "code",
      "metadata": {
        "colab": {
          "base_uri": "https://localhost:8080/"
        },
        "id": "D77Zt8pFKFlk",
        "outputId": "a432823a-8e1a-41d7-d6ca-2e922c1b474a"
      },
      "source": [
        "rand_arr.argmin()"
      ],
      "execution_count": 45,
      "outputs": [
        {
          "output_type": "execute_result",
          "data": {
            "text/plain": [
              "2"
            ]
          },
          "metadata": {},
          "execution_count": 45
        }
      ]
    },
    {
      "cell_type": "markdown",
      "metadata": {
        "id": "zcKKyB_oKGtk"
      },
      "source": [
        "# Shape\n",
        "\n",
        "Shape is an attribute not a method"
      ]
    },
    {
      "cell_type": "code",
      "metadata": {
        "colab": {
          "base_uri": "https://localhost:8080/"
        },
        "id": "NrTS1FxgKNtF",
        "outputId": "4c2a7c75-377a-46e2-d897-d7bf67247ef4"
      },
      "source": [
        "arr.shape\n"
      ],
      "execution_count": 47,
      "outputs": [
        {
          "output_type": "execute_result",
          "data": {
            "text/plain": [
              "(25,)"
            ]
          },
          "metadata": {},
          "execution_count": 47
        }
      ]
    },
    {
      "cell_type": "code",
      "metadata": {
        "colab": {
          "base_uri": "https://localhost:8080/"
        },
        "id": "rAED2SElKPR8",
        "outputId": "4e34b46f-374e-4821-c6f7-4caa0af2c7c4"
      },
      "source": [
        "arr.reshape(1,25)"
      ],
      "execution_count": 53,
      "outputs": [
        {
          "output_type": "execute_result",
          "data": {
            "text/plain": [
              "array([[ 0,  1,  2,  3,  4,  5,  6,  7,  8,  9, 10, 11, 12, 13, 14, 15,\n",
              "        16, 17, 18, 19, 20, 21, 22, 23, 24]])"
            ]
          },
          "metadata": {},
          "execution_count": 53
        }
      ]
    },
    {
      "cell_type": "code",
      "metadata": {
        "colab": {
          "base_uri": "https://localhost:8080/"
        },
        "id": "IiWnDgwDKSL0",
        "outputId": "fa04245c-2344-411d-f875-0d9daecd14a3"
      },
      "source": [
        "arr.reshape(1,25).shape"
      ],
      "execution_count": 54,
      "outputs": [
        {
          "output_type": "execute_result",
          "data": {
            "text/plain": [
              "(1, 25)"
            ]
          },
          "metadata": {},
          "execution_count": 54
        }
      ]
    },
    {
      "cell_type": "code",
      "metadata": {
        "colab": {
          "base_uri": "https://localhost:8080/"
        },
        "id": "_9paAqQ0KXU0",
        "outputId": "fee2cfe3-eca1-4685-c5ed-da7934e9dbc4"
      },
      "source": [
        "arr.reshape(25,1)"
      ],
      "execution_count": 55,
      "outputs": [
        {
          "output_type": "execute_result",
          "data": {
            "text/plain": [
              "array([[ 0],\n",
              "       [ 1],\n",
              "       [ 2],\n",
              "       [ 3],\n",
              "       [ 4],\n",
              "       [ 5],\n",
              "       [ 6],\n",
              "       [ 7],\n",
              "       [ 8],\n",
              "       [ 9],\n",
              "       [10],\n",
              "       [11],\n",
              "       [12],\n",
              "       [13],\n",
              "       [14],\n",
              "       [15],\n",
              "       [16],\n",
              "       [17],\n",
              "       [18],\n",
              "       [19],\n",
              "       [20],\n",
              "       [21],\n",
              "       [22],\n",
              "       [23],\n",
              "       [24]])"
            ]
          },
          "metadata": {},
          "execution_count": 55
        }
      ]
    },
    {
      "cell_type": "code",
      "metadata": {
        "colab": {
          "base_uri": "https://localhost:8080/"
        },
        "id": "YF3ex718KbEb",
        "outputId": "fd583cad-f7d0-4238-d9c4-5f40aaec6347"
      },
      "source": [
        "arr.reshape(25,1).shape"
      ],
      "execution_count": 56,
      "outputs": [
        {
          "output_type": "execute_result",
          "data": {
            "text/plain": [
              "(25, 1)"
            ]
          },
          "metadata": {},
          "execution_count": 56
        }
      ]
    },
    {
      "cell_type": "markdown",
      "metadata": {
        "id": "in1yMkf0KcP7"
      },
      "source": [
        "# Dtype\n",
        "\n",
        "Grabbing the Dtype is like grabbing its purpose. Whether it be int, objects, time values and etc"
      ]
    },
    {
      "cell_type": "code",
      "metadata": {
        "colab": {
          "base_uri": "https://localhost:8080/"
        },
        "id": "WDzD6iquKoAa",
        "outputId": "bf148dc5-cbba-4f22-e209-de16c1fd5781"
      },
      "source": [
        "rand_arr.dtype"
      ],
      "execution_count": 59,
      "outputs": [
        {
          "output_type": "execute_result",
          "data": {
            "text/plain": [
              "dtype('int64')"
            ]
          },
          "metadata": {},
          "execution_count": 59
        }
      ]
    },
    {
      "cell_type": "code",
      "metadata": {
        "id": "aDQ5oLIQKpwS"
      },
      "source": [
        ""
      ],
      "execution_count": null,
      "outputs": []
    }
  ]
}